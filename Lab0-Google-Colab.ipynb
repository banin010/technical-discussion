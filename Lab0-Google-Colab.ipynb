{
  "nbformat": 4,
  "nbformat_minor": 0,
  "metadata": {
    "colab": {
      "provenance": [],
      "authorship_tag": "ABX9TyM9nL1uBcVI/HI/loUvUS39",
      "include_colab_link": true
    },
    "kernelspec": {
      "name": "python3",
      "display_name": "Python 3"
    },
    "language_info": {
      "name": "python"
    }
  },
  "cells": [
    {
      "cell_type": "markdown",
      "metadata": {
        "id": "view-in-github",
        "colab_type": "text"
      },
      "source": [
        "<a href=\"https://colab.research.google.com/github/banin010/technical-discussion/blob/main/Lab0-Google-Colab.ipynb\" target=\"_parent\"><img src=\"https://colab.research.google.com/assets/colab-badge.svg\" alt=\"Open In Colab\"/></a>"
      ]
    },
    {
      "cell_type": "markdown",
      "source": [
        "# This is a markdown header\n",
        "\n",
        "\n",
        "## There are multiple ways to represent ideas in markdowns\n",
        "\n",
        "* such as bullet points\n",
        "\n",
        "* You can even nest blocks _inside_ of blocks\n",
        "```\n",
        "Like this\n",
        "```\n",
        "* Or make quotes\n",
        "> Like this\n"
      ],
      "metadata": {
        "id": "M6eNkaUboxEo"
      }
    },
    {
      "cell_type": "markdown",
      "source": [
        "# My Code"
      ],
      "metadata": {
        "id": "zG86BbgqrzGq"
      }
    },
    {
      "cell_type": "code",
      "source": [
        "print(\"Hello World\")"
      ],
      "metadata": {
        "colab": {
          "base_uri": "https://localhost:8080/"
        },
        "id": "LhPqNQ2xq_KH",
        "outputId": "36cef991-ae6e-47c8-a03e-32cc40868fcc"
      },
      "execution_count": 2,
      "outputs": [
        {
          "output_type": "stream",
          "name": "stdout",
          "text": [
            "Hello World\n"
          ]
        }
      ]
    }
  ]
}