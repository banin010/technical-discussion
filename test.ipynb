{
 "cells": [
  {
   "cell_type": "code",
   "execution_count": 1,
   "metadata": {},
   "outputs": [],
   "source": [
    "def increment(x):\n",
    "    return x + 1\n",
    "\n",
    "def test_increment():\n",
    "    assert increment(3) == 4\n",
    "    assert increment(5) == 6, \"Increment failed\"\n",
    "    \n",
    "    #Catch failures with try/except\n",
    "    try:\n",
    "        assert increment(-2) == -1 \n",
    "    except AssertionError:\n",
    "        print(\"Incrementing negative number failed\")\n",
    "        "
   ]
  },
  {
   "cell_type": "code",
   "execution_count": 2,
   "metadata": {},
   "outputs": [],
   "source": [
    "test_increment()"
   ]
  },
  {
   "cell_type": "markdown",
   "metadata": {},
   "source": [
    "# Reflection Questions\n",
    "\n",
    "> 1. Unit testing is good for seeing if the algorithm works as expected for any random case, but assertions are good for testing specific cases where the failure results in an error.\n",
    "\n",
    "> 2. Any inputs to a function that you want.\n",
    "\n",
    "> 3. Create a paired list of inputs and outputs that can be edited.\n",
    "\n",
    "> 4. Add a for loop of test cases into an assert\n",
    "\n",
    "> 5. finding all the cases that would prove that my code actually works for all cases instead of just the test cases."
   ]
  }
 ],
 "metadata": {
  "kernelspec": {
   "display_name": "Python 3",
   "language": "python",
   "name": "python3"
  },
  "language_info": {
   "codemirror_mode": {
    "name": "ipython",
    "version": 3
   },
   "file_extension": ".py",
   "mimetype": "text/x-python",
   "name": "python",
   "nbconvert_exporter": "python",
   "pygments_lexer": "ipython3",
   "version": "3.7.6"
  }
 },
 "nbformat": 4,
 "nbformat_minor": 4
}
