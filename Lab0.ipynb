{
  "nbformat": 4,
  "nbformat_minor": 0,
  "metadata": {
    "colab": {
      "provenance": []
    },
    "kernelspec": {
      "name": "python3",
      "display_name": "Python 3"
    },
    "language_info": {
      "name": "python"
    }
  },
  "cells": [
    {
      "cell_type": "markdown",
      "source": [
        "# This is a markdown header\n",
        "\n",
        "\n",
        "## There are multiple ways to represent ideas in markdowns\n",
        "\n",
        "* such as bullet points\n",
        "\n",
        "* You can even nest blocks _inside_ of blocks\n",
        "```\n",
        "Like this\n",
        "```\n",
        "* Or make quotes\n",
        "> Like this\n"
      ],
      "metadata": {
        "id": "M6eNkaUboxEo"
      }
    },
    {
      "cell_type": "markdown",
      "source": [
        "# My Code"
      ],
      "metadata": {
        "id": "zG86BbgqrzGq"
      }
    },
    {
      "cell_type": "code",
      "source": [
        "print(\"Hello World\")"
      ],
      "metadata": {
        "colab": {
          "base_uri": "https://localhost:8080/"
        },
        "id": "LhPqNQ2xq_KH",
        "outputId": "36cef991-ae6e-47c8-a03e-32cc40868fcc"
      },
      "execution_count": 2,
      "outputs": [
        {
          "output_type": "stream",
          "name": "stdout",
          "text": [
            "Hello World\n"
          ]
        }
      ]
    }
  ]
}